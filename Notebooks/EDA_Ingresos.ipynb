{
 "cells": [
  {
   "cell_type": "markdown",
   "metadata": {},
   "source": [
    "# Ingresos anuales del sector"
   ]
  },
  {
   "cell_type": "code",
   "execution_count": 92,
   "metadata": {},
   "outputs": [],
   "source": [
    "import pandas as pd"
   ]
  },
  {
   "cell_type": "code",
   "execution_count": 93,
   "metadata": {},
   "outputs": [],
   "source": [
    "df = pd.read_csv(r'C:\\Users\\nahue\\Searches\\Escritorio\\CARRERA HENRY\\SPI\\Segundo_proyecto_individual\\Datasets\\Ingresos.csv')"
   ]
  },
  {
   "cell_type": "code",
   "execution_count": 94,
   "metadata": {},
   "outputs": [
    {
     "data": {
      "text/html": [
       "<div>\n",
       "<style scoped>\n",
       "    .dataframe tbody tr th:only-of-type {\n",
       "        vertical-align: middle;\n",
       "    }\n",
       "\n",
       "    .dataframe tbody tr th {\n",
       "        vertical-align: top;\n",
       "    }\n",
       "\n",
       "    .dataframe thead th {\n",
       "        text-align: right;\n",
       "    }\n",
       "</style>\n",
       "<table border=\"1\" class=\"dataframe\">\n",
       "  <thead>\n",
       "    <tr style=\"text-align: right;\">\n",
       "      <th></th>\n",
       "      <th>Año</th>\n",
       "      <th>Trimestre</th>\n",
       "      <th>Ingresos (miles de pesos)</th>\n",
       "      <th>Periodo</th>\n",
       "    </tr>\n",
       "  </thead>\n",
       "  <tbody>\n",
       "    <tr>\n",
       "      <th>0</th>\n",
       "      <td>2024</td>\n",
       "      <td>2</td>\n",
       "      <td>4.420322e+08</td>\n",
       "      <td>Abr-Jun 2024</td>\n",
       "    </tr>\n",
       "    <tr>\n",
       "      <th>1</th>\n",
       "      <td>2024</td>\n",
       "      <td>1</td>\n",
       "      <td>3.461990e+08</td>\n",
       "      <td>Ene-Mar 2024</td>\n",
       "    </tr>\n",
       "    <tr>\n",
       "      <th>2</th>\n",
       "      <td>2023</td>\n",
       "      <td>4</td>\n",
       "      <td>1.673760e+08</td>\n",
       "      <td>Oct-Dic 2023</td>\n",
       "    </tr>\n",
       "    <tr>\n",
       "      <th>3</th>\n",
       "      <td>2023</td>\n",
       "      <td>3</td>\n",
       "      <td>1.331066e+08</td>\n",
       "      <td>Jul-Sept 2023</td>\n",
       "    </tr>\n",
       "    <tr>\n",
       "      <th>4</th>\n",
       "      <td>2023</td>\n",
       "      <td>2</td>\n",
       "      <td>1.180603e+08</td>\n",
       "      <td>Jun-Mar 2023</td>\n",
       "    </tr>\n",
       "    <tr>\n",
       "      <th>5</th>\n",
       "      <td>2033</td>\n",
       "      <td>1</td>\n",
       "      <td>1.041350e+08</td>\n",
       "      <td>Ene-Mar 2023</td>\n",
       "    </tr>\n",
       "  </tbody>\n",
       "</table>\n",
       "</div>"
      ],
      "text/plain": [
       "    Año  Trimestre  Ingresos (miles de pesos)        Periodo\n",
       "0  2024          2               4.420322e+08   Abr-Jun 2024\n",
       "1  2024          1               3.461990e+08   Ene-Mar 2024\n",
       "2  2023          4               1.673760e+08   Oct-Dic 2023\n",
       "3  2023          3               1.331066e+08  Jul-Sept 2023\n",
       "4  2023          2               1.180603e+08   Jun-Mar 2023\n",
       "5  2033          1               1.041350e+08   Ene-Mar 2023"
      ]
     },
     "execution_count": 94,
     "metadata": {},
     "output_type": "execute_result"
    }
   ],
   "source": [
    "df.head(6)"
   ]
  },
  {
   "cell_type": "code",
   "execution_count": 95,
   "metadata": {},
   "outputs": [
    {
     "name": "stdout",
     "output_type": "stream",
     "text": [
      "<class 'pandas.core.frame.DataFrame'>\n",
      "RangeIndex: 42 entries, 0 to 41\n",
      "Data columns (total 4 columns):\n",
      " #   Column                     Non-Null Count  Dtype  \n",
      "---  ------                     --------------  -----  \n",
      " 0   Año                        42 non-null     int64  \n",
      " 1   Trimestre                  42 non-null     int64  \n",
      " 2   Ingresos (miles de pesos)  42 non-null     float64\n",
      " 3   Periodo                    42 non-null     object \n",
      "dtypes: float64(1), int64(2), object(1)\n",
      "memory usage: 1.4+ KB\n"
     ]
    }
   ],
   "source": [
    "df.info()"
   ]
  },
  {
   "cell_type": "markdown",
   "metadata": {},
   "source": [
    "No hay valores nulos"
   ]
  },
  {
   "cell_type": "code",
   "execution_count": 96,
   "metadata": {},
   "outputs": [
    {
     "data": {
      "text/html": [
       "<div>\n",
       "<style scoped>\n",
       "    .dataframe tbody tr th:only-of-type {\n",
       "        vertical-align: middle;\n",
       "    }\n",
       "\n",
       "    .dataframe tbody tr th {\n",
       "        vertical-align: top;\n",
       "    }\n",
       "\n",
       "    .dataframe thead th {\n",
       "        text-align: right;\n",
       "    }\n",
       "</style>\n",
       "<table border=\"1\" class=\"dataframe\">\n",
       "  <thead>\n",
       "    <tr style=\"text-align: right;\">\n",
       "      <th></th>\n",
       "      <th>Año</th>\n",
       "      <th>Trimestre</th>\n",
       "      <th>Ingresos (miles de pesos)</th>\n",
       "    </tr>\n",
       "  </thead>\n",
       "  <tbody>\n",
       "    <tr>\n",
       "      <th>count</th>\n",
       "      <td>42.000000</td>\n",
       "      <td>42.000000</td>\n",
       "      <td>4.200000e+01</td>\n",
       "    </tr>\n",
       "    <tr>\n",
       "      <th>mean</th>\n",
       "      <td>2019.000000</td>\n",
       "      <td>2.452381</td>\n",
       "      <td>5.001648e+07</td>\n",
       "    </tr>\n",
       "    <tr>\n",
       "      <th>std</th>\n",
       "      <td>3.728597</td>\n",
       "      <td>1.130560</td>\n",
       "      <td>8.710208e+07</td>\n",
       "    </tr>\n",
       "    <tr>\n",
       "      <th>min</th>\n",
       "      <td>2014.000000</td>\n",
       "      <td>1.000000</td>\n",
       "      <td>2.984054e+06</td>\n",
       "    </tr>\n",
       "    <tr>\n",
       "      <th>25%</th>\n",
       "      <td>2016.000000</td>\n",
       "      <td>1.250000</td>\n",
       "      <td>7.055326e+06</td>\n",
       "    </tr>\n",
       "    <tr>\n",
       "      <th>50%</th>\n",
       "      <td>2019.000000</td>\n",
       "      <td>2.000000</td>\n",
       "      <td>2.047527e+07</td>\n",
       "    </tr>\n",
       "    <tr>\n",
       "      <th>75%</th>\n",
       "      <td>2021.000000</td>\n",
       "      <td>3.000000</td>\n",
       "      <td>4.485090e+07</td>\n",
       "    </tr>\n",
       "    <tr>\n",
       "      <th>max</th>\n",
       "      <td>2033.000000</td>\n",
       "      <td>4.000000</td>\n",
       "      <td>4.420322e+08</td>\n",
       "    </tr>\n",
       "  </tbody>\n",
       "</table>\n",
       "</div>"
      ],
      "text/plain": [
       "               Año  Trimestre  Ingresos (miles de pesos)\n",
       "count    42.000000  42.000000               4.200000e+01\n",
       "mean   2019.000000   2.452381               5.001648e+07\n",
       "std       3.728597   1.130560               8.710208e+07\n",
       "min    2014.000000   1.000000               2.984054e+06\n",
       "25%    2016.000000   1.250000               7.055326e+06\n",
       "50%    2019.000000   2.000000               2.047527e+07\n",
       "75%    2021.000000   3.000000               4.485090e+07\n",
       "max    2033.000000   4.000000               4.420322e+08"
      ]
     },
     "execution_count": 96,
     "metadata": {},
     "output_type": "execute_result"
    }
   ],
   "source": [
    "df.describe()"
   ]
  },
  {
   "cell_type": "code",
   "execution_count": 97,
   "metadata": {},
   "outputs": [
    {
     "name": "stdout",
     "output_type": "stream",
     "text": [
      "[2024 2023 2033 2022 2021 2020 2019 2018 2017 2016 2015 2014]\n"
     ]
    }
   ],
   "source": [
    "#Hay un 2033 en el max de año lo que no está bien. Corroboro los valores:\n",
    "print(df[\"Año\"].unique())"
   ]
  },
  {
   "cell_type": "code",
   "execution_count": 98,
   "metadata": {},
   "outputs": [
    {
     "data": {
      "text/html": [
       "<div>\n",
       "<style scoped>\n",
       "    .dataframe tbody tr th:only-of-type {\n",
       "        vertical-align: middle;\n",
       "    }\n",
       "\n",
       "    .dataframe tbody tr th {\n",
       "        vertical-align: top;\n",
       "    }\n",
       "\n",
       "    .dataframe thead th {\n",
       "        text-align: right;\n",
       "    }\n",
       "</style>\n",
       "<table border=\"1\" class=\"dataframe\">\n",
       "  <thead>\n",
       "    <tr style=\"text-align: right;\">\n",
       "      <th></th>\n",
       "      <th>Año</th>\n",
       "      <th>Trimestre</th>\n",
       "      <th>Ingresos (miles de pesos)</th>\n",
       "      <th>Periodo</th>\n",
       "    </tr>\n",
       "  </thead>\n",
       "  <tbody>\n",
       "    <tr>\n",
       "      <th>5</th>\n",
       "      <td>2033</td>\n",
       "      <td>1</td>\n",
       "      <td>1.041350e+08</td>\n",
       "      <td>Ene-Mar 2023</td>\n",
       "    </tr>\n",
       "  </tbody>\n",
       "</table>\n",
       "</div>"
      ],
      "text/plain": [
       "    Año  Trimestre  Ingresos (miles de pesos)       Periodo\n",
       "5  2033          1               1.041350e+08  Ene-Mar 2023"
      ]
     },
     "execution_count": 98,
     "metadata": {},
     "output_type": "execute_result"
    }
   ],
   "source": [
    "#Busco la fila de ese año:\n",
    "fila_2033 = df[df['Año'] == 2033]\n",
    "fila_2033"
   ]
  },
  {
   "cell_type": "code",
   "execution_count": 99,
   "metadata": {},
   "outputs": [
    {
     "name": "stdout",
     "output_type": "stream",
     "text": [
      "[2024 2023 2022 2021 2020 2019 2018 2017 2016 2015 2014]\n"
     ]
    }
   ],
   "source": [
    "#El valor erroneo se encuentra en la fila 5. La columna período y el df.head(6) de mas arriba dan cuenta de que es un error de tipeo. Lo corrijo.\n",
    "df.loc[df['Año'] == 2033, 'Año'] = 2023\n",
    "\n",
    "#Corroboro:\n",
    "print(df[\"Año\"].unique())"
   ]
  },
  {
   "cell_type": "code",
   "execution_count": 100,
   "metadata": {},
   "outputs": [],
   "source": [
    "#Guardo el archivo limpio para la futura concatenación\n",
    "df = df.to_csv('Ingresos_limpio.csv', index=False)"
   ]
  },
  {
   "cell_type": "markdown",
   "metadata": {},
   "source": [
    "<span style=\"color:orange\">*Devido a la constante inflación de los últimos, por lo menos, 20 años en Argentina, es muy difícil tener una perspectiva de los ingresos trimestrales/anuales del sector en estudio en pesos($) argentinos por lo que decidí llevar esos montos a dólares. Para ello recurrí a los datos de una página web llamada 'Dinero en el tiempo.com' que contiene los precios diarios del dolar desde 1991 hasta la fecha acotándome al período 2014-2024.*</span>"
   ]
  },
  {
   "cell_type": "code",
   "execution_count": 28,
   "metadata": {},
   "outputs": [],
   "source": [
    "# Leo todas las hojas del archivo Excel en un diccionario de DataFrames\n",
    "archivo_excel = pd.read_excel(r'C:\\Users\\nahue\\Searches\\Escritorio\\CARRERA HENRY\\SPI\\Segundo_proyecto_individual\\Datasets\\Valor historico dolar 2014-2024.xlsx', sheet_name=None)"
   ]
  },
  {
   "cell_type": "markdown",
   "metadata": {},
   "source": [
    "Como los datos de los ingresos estan dividos en trimestres, saco el promedio del precio del dólar por trimestre de cada año."
   ]
  },
  {
   "cell_type": "code",
   "execution_count": 106,
   "metadata": {},
   "outputs": [
    {
     "name": "stdout",
     "output_type": "stream",
     "text": [
      "     Año  Trimestre       Precio\n",
      "0   2014          1  7601.109375\n",
      "1   2014          2  8053.861538\n",
      "2   2014          3  8292.484848\n",
      "3   2014          4  8512.939394\n",
      "4   2015          1  8686.859375\n",
      "5   2015          2  8958.384615\n",
      "6   2015          3  9253.030303\n",
      "7   2015          4  7987.142273\n",
      "8   2016          1    14.449846\n",
      "9   2016          2    14.219538\n",
      "10  2016          3    14.943788\n",
      "11  2016          4    15.463692\n",
      "12  2017          1    15.674462\n",
      "13  2017          2    15.737538\n",
      "14  2017          3    17.286615\n",
      "15  2017          4    17.545385\n",
      "16  2018          1    19.679846\n",
      "17  2018          2    23.499538\n",
      "18  2018          3    31.910462\n",
      "19  2018          4    37.106818\n",
      "20  2019          1    38.996406\n",
      "21  2019          2    43.866615\n",
      "22  2019          3    50.314394\n",
      "23  2019          4    59.243030\n",
      "24  2020          1    61.399231\n",
      "25  2020          2    67.531875\n",
      "26  2020          3    73.203030\n",
      "27  2020          4    80.030312\n",
      "28  2021          1    88.587969\n",
      "29  2021          2    93.961846\n",
      "30  2021          3    97.163636\n",
      "31  2021          4   100.520152\n",
      "32  2022          1   106.639531\n",
      "33  2022          2   117.940625\n",
      "34  2022          3   135.796364\n",
      "35  2022          4   162.495077\n",
      "36  2023          1   192.875714\n",
      "37  2023          2   232.496308\n",
      "38  2023          3   313.540615\n",
      "39  2023          4   443.608308\n",
      "40  2024          1   834.947671\n",
      "41  2024          2   885.163030\n"
     ]
    }
   ],
   "source": [
    "import pandas as pd\n",
    "\n",
    "# Creo una lista para almacenar todos los DataFrames\n",
    "dataframes = []\n",
    "\n",
    "# Itero sobre cada hoja y agrego a la lista de DF\n",
    "for nombre_hoja, df in archivo_excel.items():\n",
    "    # Convierto la columna 'Fecha' en formato datetime\n",
    "    df['Fecha'] = pd.to_datetime(df['Fecha'])\n",
    "    # Agrego una columna de año y trimestre\n",
    "    df['Año'] = df['Fecha'].dt.year\n",
    "    df['Trimestre'] = df['Fecha'].dt.quarter\n",
    "    # Agrego el DF a la lista\n",
    "    dataframes.append(df)\n",
    "\n",
    "# Concateno todos los DF en uno solo\n",
    "datos_todos = pd.concat(dataframes)\n",
    "\n",
    "# Agrupo por año y trimestre y calculo el precio promedio\n",
    "precios_promedio_trimestre = datos_todos.groupby(['Año', 'Trimestre'])['Precio'].mean().reset_index()\n",
    "\n",
    "print(precios_promedio_trimestre)"
   ]
  },
  {
   "cell_type": "markdown",
   "metadata": {},
   "source": [
    "Podemos ver que los datos del 2014 y 2015 están mal, posiblemente por el formato en el excel. Lo corrijo. "
   ]
  },
  {
   "cell_type": "code",
   "execution_count": 107,
   "metadata": {},
   "outputs": [
    {
     "name": "stdout",
     "output_type": "stream",
     "text": [
      "       Fecha        Día  Precio   Año  Trimestre\n",
      "0 2015-01-01     Jueves   8.551  2015          1\n",
      "1 2015-01-02    Viernes   8.556  2015          1\n",
      "2 2015-01-05      Lunes   8.552  2015          1\n",
      "3 2015-01-06     Martes   8.548  2015          1\n",
      "4 2015-01-07  Miércoles   8.573  2015          1\n"
     ]
    }
   ],
   "source": [
    "# Convierto los precios de 2014 y 2015 \n",
    "datos_todos.loc[(datos_todos['Año'] == 2014) | (datos_todos['Año'] == 2015), 'Precio'] /= 1000\n",
    "\n",
    "# Verifico que hayan quedado bien\n",
    "print(datos_todos[(datos_todos['Año'] == 2014) | (datos_todos['Año'] == 2015)].head())\n"
   ]
  },
  {
   "cell_type": "code",
   "execution_count": 117,
   "metadata": {},
   "outputs": [
    {
     "name": "stdout",
     "output_type": "stream",
     "text": [
      "     Año  Trimestre      Precio\n",
      "0   2014          1    7.601109\n",
      "1   2014          2    8.053862\n",
      "2   2014          3    8.292485\n",
      "3   2014          4    8.512939\n",
      "4   2015          1    8.686859\n",
      "5   2015          2    8.958385\n",
      "6   2015          3    9.253030\n",
      "7   2015          4    7.987142\n",
      "8   2016          1   14.449846\n",
      "9   2016          2   14.219538\n",
      "10  2016          3   14.943788\n",
      "11  2016          4   15.463692\n",
      "12  2017          1   15.674462\n",
      "13  2017          2   15.737538\n",
      "14  2017          3   17.286615\n",
      "15  2017          4   17.545385\n",
      "16  2018          1   19.679846\n",
      "17  2018          2   23.499538\n",
      "18  2018          3   31.910462\n",
      "19  2018          4   37.106818\n",
      "20  2019          1   38.996406\n",
      "21  2019          2   43.866615\n",
      "22  2019          3   50.314394\n",
      "23  2019          4   59.243030\n",
      "24  2020          1   61.399231\n",
      "25  2020          2   67.531875\n",
      "26  2020          3   73.203030\n",
      "27  2020          4   80.030312\n",
      "28  2021          1   88.587969\n",
      "29  2021          2   93.961846\n",
      "30  2021          3   97.163636\n",
      "31  2021          4  100.520152\n",
      "32  2022          1  106.639531\n",
      "33  2022          2  117.940625\n",
      "34  2022          3  135.796364\n",
      "35  2022          4  162.495077\n",
      "36  2023          1  192.875714\n",
      "37  2023          2  232.496308\n",
      "38  2023          3  313.540615\n",
      "39  2023          4  443.608308\n",
      "40  2024          1  834.947671\n",
      "41  2024          2  885.163030\n"
     ]
    }
   ],
   "source": [
    "# Agrupo por año y trimestre y calculo el precio promedio del dolar por trimestre\n",
    "precios_promedio_trimestre = datos_todos.groupby(['Año', 'Trimestre'])['Precio'].mean().reset_index()\n",
    "\n",
    "print(precios_promedio_trimestre)"
   ]
  },
  {
   "cell_type": "code",
   "execution_count": 118,
   "metadata": {},
   "outputs": [],
   "source": [
    "#Renombro la columna Precio para especificar a qué precio refiere\n",
    "precios_promedio_trimestre = precios_promedio_trimestre.rename(columns={'Precio': 'Precio dólar'})"
   ]
  },
  {
   "cell_type": "markdown",
   "metadata": {},
   "source": [
    "Ahora sí quedaron bien."
   ]
  },
  {
   "cell_type": "markdown",
   "metadata": {},
   "source": [
    "### Ya tengo el precio del dolar por trimestre y por año. Voy a concatenar el archivo 'Ingresos' con 'precios_promedio_dolar_trimestre' para así obtener el valor de los ingresos en dólares."
   ]
  },
  {
   "cell_type": "code",
   "execution_count": 119,
   "metadata": {},
   "outputs": [],
   "source": [
    "precios_promedio_trimestre = precios_promedio_trimestre.to_csv('precios_promedio_dolar_trimestre.csv', index=False)"
   ]
  },
  {
   "cell_type": "code",
   "execution_count": 120,
   "metadata": {},
   "outputs": [],
   "source": [
    "df1 = pd.read_csv(r'C:\\Users\\nahue\\Searches\\Escritorio\\CARRERA HENRY\\SPI\\Segundo_proyecto_individual\\Datasets\\precios_promedio_dolar_trimestre.csv')"
   ]
  },
  {
   "cell_type": "code",
   "execution_count": 121,
   "metadata": {},
   "outputs": [
    {
     "name": "stdout",
     "output_type": "stream",
     "text": [
      "<class 'pandas.core.frame.DataFrame'>\n",
      "RangeIndex: 42 entries, 0 to 41\n",
      "Data columns (total 3 columns):\n",
      " #   Column        Non-Null Count  Dtype  \n",
      "---  ------        --------------  -----  \n",
      " 0   Año           42 non-null     int64  \n",
      " 1   Trimestre     42 non-null     int64  \n",
      " 2   Precio dólar  42 non-null     float64\n",
      "dtypes: float64(1), int64(2)\n",
      "memory usage: 1.1 KB\n"
     ]
    }
   ],
   "source": [
    "df1.info()"
   ]
  },
  {
   "cell_type": "code",
   "execution_count": 122,
   "metadata": {},
   "outputs": [
    {
     "data": {
      "text/html": [
       "<div>\n",
       "<style scoped>\n",
       "    .dataframe tbody tr th:only-of-type {\n",
       "        vertical-align: middle;\n",
       "    }\n",
       "\n",
       "    .dataframe tbody tr th {\n",
       "        vertical-align: top;\n",
       "    }\n",
       "\n",
       "    .dataframe thead th {\n",
       "        text-align: right;\n",
       "    }\n",
       "</style>\n",
       "<table border=\"1\" class=\"dataframe\">\n",
       "  <thead>\n",
       "    <tr style=\"text-align: right;\">\n",
       "      <th></th>\n",
       "      <th>Año</th>\n",
       "      <th>Trimestre</th>\n",
       "      <th>Precio dólar</th>\n",
       "    </tr>\n",
       "  </thead>\n",
       "  <tbody>\n",
       "    <tr>\n",
       "      <th>0</th>\n",
       "      <td>2014</td>\n",
       "      <td>1</td>\n",
       "      <td>7.601109</td>\n",
       "    </tr>\n",
       "    <tr>\n",
       "      <th>1</th>\n",
       "      <td>2014</td>\n",
       "      <td>2</td>\n",
       "      <td>8.053862</td>\n",
       "    </tr>\n",
       "    <tr>\n",
       "      <th>2</th>\n",
       "      <td>2014</td>\n",
       "      <td>3</td>\n",
       "      <td>8.292485</td>\n",
       "    </tr>\n",
       "    <tr>\n",
       "      <th>3</th>\n",
       "      <td>2014</td>\n",
       "      <td>4</td>\n",
       "      <td>8.512939</td>\n",
       "    </tr>\n",
       "    <tr>\n",
       "      <th>4</th>\n",
       "      <td>2015</td>\n",
       "      <td>1</td>\n",
       "      <td>8.686859</td>\n",
       "    </tr>\n",
       "  </tbody>\n",
       "</table>\n",
       "</div>"
      ],
      "text/plain": [
       "    Año  Trimestre  Precio dólar\n",
       "0  2014          1      7.601109\n",
       "1  2014          2      8.053862\n",
       "2  2014          3      8.292485\n",
       "3  2014          4      8.512939\n",
       "4  2015          1      8.686859"
      ]
     },
     "execution_count": 122,
     "metadata": {},
     "output_type": "execute_result"
    }
   ],
   "source": [
    "df1.head()"
   ]
  },
  {
   "cell_type": "markdown",
   "metadata": {},
   "source": [
    "### Concateno "
   ]
  },
  {
   "cell_type": "code",
   "execution_count": 50,
   "metadata": {},
   "outputs": [
    {
     "data": {
      "text/html": [
       "<div>\n",
       "<style scoped>\n",
       "    .dataframe tbody tr th:only-of-type {\n",
       "        vertical-align: middle;\n",
       "    }\n",
       "\n",
       "    .dataframe tbody tr th {\n",
       "        vertical-align: top;\n",
       "    }\n",
       "\n",
       "    .dataframe thead th {\n",
       "        text-align: right;\n",
       "    }\n",
       "</style>\n",
       "<table border=\"1\" class=\"dataframe\">\n",
       "  <thead>\n",
       "    <tr style=\"text-align: right;\">\n",
       "      <th></th>\n",
       "      <th>Año</th>\n",
       "      <th>Trimestre</th>\n",
       "      <th>Periodo</th>\n",
       "      <th>Ingresos (miles de pesos)</th>\n",
       "      <th>Precio dólar</th>\n",
       "    </tr>\n",
       "  </thead>\n",
       "  <tbody>\n",
       "    <tr>\n",
       "      <th>0</th>\n",
       "      <td>2024</td>\n",
       "      <td>2</td>\n",
       "      <td>Abr-Jun 2024</td>\n",
       "      <td>4.420322e+08</td>\n",
       "      <td>885.163030</td>\n",
       "    </tr>\n",
       "    <tr>\n",
       "      <th>1</th>\n",
       "      <td>2024</td>\n",
       "      <td>1</td>\n",
       "      <td>Ene-Mar 2024</td>\n",
       "      <td>3.461990e+08</td>\n",
       "      <td>834.947671</td>\n",
       "    </tr>\n",
       "    <tr>\n",
       "      <th>2</th>\n",
       "      <td>2023</td>\n",
       "      <td>4</td>\n",
       "      <td>Oct-Dic 2023</td>\n",
       "      <td>1.673760e+08</td>\n",
       "      <td>443.608308</td>\n",
       "    </tr>\n",
       "    <tr>\n",
       "      <th>3</th>\n",
       "      <td>2023</td>\n",
       "      <td>3</td>\n",
       "      <td>Jul-Sept 2023</td>\n",
       "      <td>1.331066e+08</td>\n",
       "      <td>313.540615</td>\n",
       "    </tr>\n",
       "    <tr>\n",
       "      <th>4</th>\n",
       "      <td>2023</td>\n",
       "      <td>2</td>\n",
       "      <td>Jun-Mar 2023</td>\n",
       "      <td>1.180603e+08</td>\n",
       "      <td>232.496308</td>\n",
       "    </tr>\n",
       "  </tbody>\n",
       "</table>\n",
       "</div>"
      ],
      "text/plain": [
       "    Año  Trimestre        Periodo  Ingresos (miles de pesos)  Precio dólar\n",
       "0  2024          2   Abr-Jun 2024               4.420322e+08    885.163030\n",
       "1  2024          1   Ene-Mar 2024               3.461990e+08    834.947671\n",
       "2  2023          4   Oct-Dic 2023               1.673760e+08    443.608308\n",
       "3  2023          3  Jul-Sept 2023               1.331066e+08    313.540615\n",
       "4  2023          2   Jun-Mar 2023               1.180603e+08    232.496308"
      ]
     },
     "execution_count": 50,
     "metadata": {},
     "output_type": "execute_result"
    }
   ],
   "source": [
    "import pandas as pd\n",
    "\n",
    "archivo1 = pd.read_csv(r'C:\\Users\\nahue\\Searches\\Escritorio\\CARRERA HENRY\\SPI\\Segundo_proyecto_individual\\Datasets\\Ingresos_limpio.csv')\n",
    "archivo2 = pd.read_csv(r'C:\\Users\\nahue\\Searches\\Escritorio\\CARRERA HENRY\\SPI\\Segundo_proyecto_individual\\Datasets\\precios_promedio_dolar_trimestre.csv')\n",
    "\n",
    "# Realizo el merge de los archivos en base a las columnas 'Año' y 'Trimestre'\n",
    "df_concatenado = pd.merge(archivo1, archivo2, on=['Año', 'Trimestre'])\n",
    "\n",
    "# Reordeno columnas\n",
    "columnas_reordenadas = ['Año', 'Trimestre', 'Periodo', 'Ingresos (miles de pesos)', 'Precio dólar']\n",
    "df_concatenado = df_concatenado[columnas_reordenadas]\n",
    "\n",
    "df_concatenado.head()"
   ]
  },
  {
   "cell_type": "code",
   "execution_count": 51,
   "metadata": {},
   "outputs": [
    {
     "data": {
      "text/html": [
       "<div>\n",
       "<style scoped>\n",
       "    .dataframe tbody tr th:only-of-type {\n",
       "        vertical-align: middle;\n",
       "    }\n",
       "\n",
       "    .dataframe tbody tr th {\n",
       "        vertical-align: top;\n",
       "    }\n",
       "\n",
       "    .dataframe thead th {\n",
       "        text-align: right;\n",
       "    }\n",
       "</style>\n",
       "<table border=\"1\" class=\"dataframe\">\n",
       "  <thead>\n",
       "    <tr style=\"text-align: right;\">\n",
       "      <th></th>\n",
       "      <th>Año</th>\n",
       "      <th>Trimestre</th>\n",
       "      <th>Periodo</th>\n",
       "      <th>Ingresos (miles de pesos)</th>\n",
       "      <th>Precio dólar</th>\n",
       "      <th>Ingresos en dólares</th>\n",
       "    </tr>\n",
       "  </thead>\n",
       "  <tbody>\n",
       "    <tr>\n",
       "      <th>0</th>\n",
       "      <td>2024</td>\n",
       "      <td>2</td>\n",
       "      <td>Abr-Jun 2024</td>\n",
       "      <td>4.420322e+08</td>\n",
       "      <td>885.163030</td>\n",
       "      <td>499379.381602</td>\n",
       "    </tr>\n",
       "    <tr>\n",
       "      <th>1</th>\n",
       "      <td>2024</td>\n",
       "      <td>1</td>\n",
       "      <td>Ene-Mar 2024</td>\n",
       "      <td>3.461990e+08</td>\n",
       "      <td>834.947671</td>\n",
       "      <td>414635.549098</td>\n",
       "    </tr>\n",
       "    <tr>\n",
       "      <th>2</th>\n",
       "      <td>2023</td>\n",
       "      <td>4</td>\n",
       "      <td>Oct-Dic 2023</td>\n",
       "      <td>1.673760e+08</td>\n",
       "      <td>443.608308</td>\n",
       "      <td>377305.861720</td>\n",
       "    </tr>\n",
       "    <tr>\n",
       "      <th>3</th>\n",
       "      <td>2023</td>\n",
       "      <td>3</td>\n",
       "      <td>Jul-Sept 2023</td>\n",
       "      <td>1.331066e+08</td>\n",
       "      <td>313.540615</td>\n",
       "      <td>424527.435614</td>\n",
       "    </tr>\n",
       "    <tr>\n",
       "      <th>4</th>\n",
       "      <td>2023</td>\n",
       "      <td>2</td>\n",
       "      <td>Jun-Mar 2023</td>\n",
       "      <td>1.180603e+08</td>\n",
       "      <td>232.496308</td>\n",
       "      <td>507794.215968</td>\n",
       "    </tr>\n",
       "  </tbody>\n",
       "</table>\n",
       "</div>"
      ],
      "text/plain": [
       "    Año  Trimestre        Periodo  Ingresos (miles de pesos)  Precio dólar  \\\n",
       "0  2024          2   Abr-Jun 2024               4.420322e+08    885.163030   \n",
       "1  2024          1   Ene-Mar 2024               3.461990e+08    834.947671   \n",
       "2  2023          4   Oct-Dic 2023               1.673760e+08    443.608308   \n",
       "3  2023          3  Jul-Sept 2023               1.331066e+08    313.540615   \n",
       "4  2023          2   Jun-Mar 2023               1.180603e+08    232.496308   \n",
       "\n",
       "   Ingresos en dólares  \n",
       "0        499379.381602  \n",
       "1        414635.549098  \n",
       "2        377305.861720  \n",
       "3        424527.435614  \n",
       "4        507794.215968  "
      ]
     },
     "execution_count": 51,
     "metadata": {},
     "output_type": "execute_result"
    }
   ],
   "source": [
    "# Creo una nueva columna: 'Ingresos en dólares' = Ingresos (miles de pesos) / Precio dólar\n",
    "df_concatenado['Ingresos en dólares'] = df_concatenado['Ingresos (miles de pesos)'] / df_concatenado['Precio dólar']\n",
    "\n",
    "df_concatenado.head()"
   ]
  },
  {
   "cell_type": "markdown",
   "metadata": {},
   "source": [
    "Los ingresos se ven bastante desprolijos y se dificulta entenderlos. Los acomodo de manera que se entiendan bien los miles/millones y los centavos."
   ]
  },
  {
   "cell_type": "code",
   "execution_count": 52,
   "metadata": {},
   "outputs": [
    {
     "data": {
      "text/html": [
       "<div>\n",
       "<style scoped>\n",
       "    .dataframe tbody tr th:only-of-type {\n",
       "        vertical-align: middle;\n",
       "    }\n",
       "\n",
       "    .dataframe tbody tr th {\n",
       "        vertical-align: top;\n",
       "    }\n",
       "\n",
       "    .dataframe thead th {\n",
       "        text-align: right;\n",
       "    }\n",
       "</style>\n",
       "<table border=\"1\" class=\"dataframe\">\n",
       "  <thead>\n",
       "    <tr style=\"text-align: right;\">\n",
       "      <th></th>\n",
       "      <th>Año</th>\n",
       "      <th>Trimestre</th>\n",
       "      <th>Periodo</th>\n",
       "      <th>Ingresos (miles de pesos)</th>\n",
       "      <th>Precio dólar</th>\n",
       "      <th>Ingresos en dólares</th>\n",
       "    </tr>\n",
       "  </thead>\n",
       "  <tbody>\n",
       "    <tr>\n",
       "      <th>0</th>\n",
       "      <td>2024</td>\n",
       "      <td>2</td>\n",
       "      <td>Abr-Jun 2024</td>\n",
       "      <td>442.032.166,69</td>\n",
       "      <td>885,16</td>\n",
       "      <td>499.379,38</td>\n",
       "    </tr>\n",
       "    <tr>\n",
       "      <th>1</th>\n",
       "      <td>2024</td>\n",
       "      <td>1</td>\n",
       "      <td>Ene-Mar 2024</td>\n",
       "      <td>346.198.986,13</td>\n",
       "      <td>834,95</td>\n",
       "      <td>414.635,55</td>\n",
       "    </tr>\n",
       "    <tr>\n",
       "      <th>2</th>\n",
       "      <td>2023</td>\n",
       "      <td>4</td>\n",
       "      <td>Oct-Dic 2023</td>\n",
       "      <td>167.376.014,80</td>\n",
       "      <td>443,61</td>\n",
       "      <td>377.305,86</td>\n",
       "    </tr>\n",
       "    <tr>\n",
       "      <th>3</th>\n",
       "      <td>2023</td>\n",
       "      <td>3</td>\n",
       "      <td>Jul-Sept 2023</td>\n",
       "      <td>133.106.593,41</td>\n",
       "      <td>313,54</td>\n",
       "      <td>424.527,44</td>\n",
       "    </tr>\n",
       "    <tr>\n",
       "      <th>4</th>\n",
       "      <td>2023</td>\n",
       "      <td>2</td>\n",
       "      <td>Jun-Mar 2023</td>\n",
       "      <td>118.060.280,28</td>\n",
       "      <td>232,50</td>\n",
       "      <td>507.794,22</td>\n",
       "    </tr>\n",
       "    <tr>\n",
       "      <th>5</th>\n",
       "      <td>2023</td>\n",
       "      <td>1</td>\n",
       "      <td>Ene-Mar 2023</td>\n",
       "      <td>104.134.992,81</td>\n",
       "      <td>192,88</td>\n",
       "      <td>539.907,23</td>\n",
       "    </tr>\n",
       "  </tbody>\n",
       "</table>\n",
       "</div>"
      ],
      "text/plain": [
       "    Año  Trimestre        Periodo Ingresos (miles de pesos) Precio dólar  \\\n",
       "0  2024          2   Abr-Jun 2024            442.032.166,69       885,16   \n",
       "1  2024          1   Ene-Mar 2024            346.198.986,13       834,95   \n",
       "2  2023          4   Oct-Dic 2023            167.376.014,80       443,61   \n",
       "3  2023          3  Jul-Sept 2023            133.106.593,41       313,54   \n",
       "4  2023          2   Jun-Mar 2023            118.060.280,28       232,50   \n",
       "5  2023          1   Ene-Mar 2023            104.134.992,81       192,88   \n",
       "\n",
       "  Ingresos en dólares  \n",
       "0          499.379,38  \n",
       "1          414.635,55  \n",
       "2          377.305,86  \n",
       "3          424.527,44  \n",
       "4          507.794,22  \n",
       "5          539.907,23  "
      ]
     },
     "execution_count": 52,
     "metadata": {},
     "output_type": "execute_result"
    }
   ],
   "source": [
    "import locale\n",
    "\n",
    "# Configuro el locale a español de Argentina para el formato de moneda\n",
    "locale.setlocale(locale.LC_ALL, 'es_AR.UTF-8')\n",
    "\n",
    "# Desarrollo función para formatear como moneda\n",
    "def formatear_moneda(valor):\n",
    "    return locale.format_string('%.2f', valor, grouping=True)\n",
    "\n",
    "# Aplico la función\n",
    "df_concatenado['Ingresos (miles de pesos)'] = df_concatenado['Ingresos (miles de pesos)'].apply(formatear_moneda)\n",
    "df_concatenado['Precio dólar'] = df_concatenado['Precio dólar'].apply(formatear_moneda)\n",
    "df_concatenado['Ingresos en dólares'] = df_concatenado['Ingresos en dólares'].apply(formatear_moneda)\n",
    "\n",
    "df_concatenado.head(6)"
   ]
  },
  {
   "cell_type": "markdown",
   "metadata": {},
   "source": [
    "Ahora está mas legible"
   ]
  },
  {
   "cell_type": "markdown",
   "metadata": {},
   "source": [
    "## Grafico para analizar tendencias"
   ]
  },
  {
   "cell_type": "markdown",
   "metadata": {},
   "source": [
    "### Tendencia de ingresos por año"
   ]
  },
  {
   "cell_type": "code",
   "execution_count": null,
   "metadata": {},
   "outputs": [
    {
     "data": {
      "image/png": "[encoded data removed]",
      "text/plain": [
       "<Figure size 1000x600 with 1 Axes>"
      ]
     },
     "metadata": {},
     "output_type": "display_data"
    }
   ],
   "source": [
    "import pandas as pd\n",
    "import matplotlib.pyplot as plt\n",
    "import locale\n",
    "\n",
    "# Función para limpiar y convertir a float para poder sumar\n",
    "def limpiar_y_convertir(valor):\n",
    "    # Remuevo puntos de los miles\n",
    "    valor = valor.replace('.', '')\n",
    "    # Reemplazo coma por punto\n",
    "    valor = valor.replace(',', '.')\n",
    "    # Convierto a float\n",
    "    return float(valor)\n",
    "\n",
    "# Convierto las columnas a tipo numérico\n",
    "df_concatenado['Ingresos en dólares'] = df_concatenado['Ingresos en dólares'].apply(limpiar_y_convertir)\n",
    "\n",
    "# Agrupo por año para sumar los ingresos en dólares para cada año\n",
    "ingresos_anuales = df_concatenado.groupby('Año')['Ingresos en dólares'].sum().reset_index()\n",
    "\n",
    "# Grafico los ingresos en dólares vs. años\n",
    "plt.figure(figsize=(10, 6))\n",
    "plt.plot(ingresos_anuales['Año'], ingresos_anuales['Ingresos en dólares'], marker='o')\n",
    "plt.title('Ingresos Totales en Dólares por Año')\n",
    "plt.xlabel('Año')\n",
    "plt.ylabel('Ingresos en millones de dólares')\n",
    "plt.grid(True)\n",
    "plt.show()"
   ]
  },
  {
   "cell_type": "markdown",
   "metadata": {},
   "source": [
    "*Analizaremos mas en profundidad segmentando por trimestres*"
   ]
  },
  {
   "cell_type": "markdown",
   "metadata": {},
   "source": [
    "### Tendencia de ingresos por trimestre de cada año"
   ]
  },
  {
   "cell_type": "code",
   "execution_count": 53,
   "metadata": {},
   "outputs": [
    {
     "data": {
      "image/png": "[encoded data removed]",
      "text/plain": [
       "<Figure size 1200x800 with 1 Axes>"
      ]
     },
     "metadata": {},
     "output_type": "display_data"
    }
   ],
   "source": [
    "import pandas as pd\n",
    "import matplotlib.pyplot as plt\n",
    "import seaborn as sns\n",
    "\n",
    "def limpiar_y_convertir(valor):\n",
    "    # Remuevo puntos de los miles\n",
    "    valor = valor.replace('.', '')\n",
    "    # Reemplazo coma por punto\n",
    "    valor = valor.replace(',', '.')\n",
    "    # Convierto a float\n",
    "    return float(valor)\n",
    "\n",
    "df_concatenado['Ingresos en dólares'] = df_concatenado['Ingresos en dólares'].apply(limpiar_y_convertir)\n",
    "\n",
    "# Agrupo por año y trimestre para sumar los ingresos en dólares para cada trimestre\n",
    "ingresos_trimestrales = df_concatenado.groupby(['Año', 'Trimestre'])['Ingresos en dólares'].sum().reset_index()\n",
    "\n",
    "# Creo una columna que combine año y trimestre para el eje X\n",
    "ingresos_trimestrales['Año_Trimestre'] = ingresos_trimestrales['Año'].astype(str) + 'T' + ingresos_trimestrales['Trimestre'].astype(str)\n",
    "\n",
    "# Creo el gráfico con diferentes colores para cada año para mejorar la legibilidad\n",
    "plt.figure(figsize=(12, 8))\n",
    "palette = sns.color_palette(\"husl\", len(ingresos_trimestrales['Año'].unique()))\n",
    "\n",
    "for idx, year in enumerate(ingresos_trimestrales['Año'].unique()):\n",
    "    df_year = ingresos_trimestrales[ingresos_trimestrales['Año'] == year]\n",
    "    plt.plot(df_year['Año_Trimestre'], df_year['Ingresos en dólares'], marker='o', label=f'Año {year}', color=palette[idx])\n",
    "\n",
    "# Agrego líneas verticales parac una mejor separación de los años\n",
    "for year in ingresos_trimestrales['Año'].unique():\n",
    "    plt.axvline(x=f'{year}T1', color='red', linestyle='--', linewidth=1)\n",
    "\n",
    "plt.title('Ingresos Totales en Dólares por Trimestre de Cada Año')\n",
    "plt.xlabel('Año y Trimestre')\n",
    "plt.ylabel('Ingresos en Dólares')\n",
    "plt.xticks(rotation=45)\n",
    "plt.legend(title='Año')\n",
    "plt.grid(True)\n",
    "plt.tight_layout()\n",
    "plt.show()\n"
   ]
  },
  {
   "cell_type": "markdown",
   "metadata": {},
   "source": [
    "*Entre el 2014 y 2017 hay una tendencia general de ingresos en subida al pasar los trimestres.*\n",
    "\n",
    "*A partir del 2018, aunque arranca con un pico en los ingresos, la tendencia es bajista ya sea por decisión de la población en dar de baja el servicio o reestructuraciones empresariales, ambas por crisis económicas, cepo cambiario, cambio de gobierno, pandemia, baja de poder adquisitivo e inflación incontrolable.*\n",
    "\n",
    "*Ya para la primera mitad de 2024 puede verse una tendencia alsista.*   "
   ]
  }
 ],
 "metadata": {
  "kernelspec": {
   "display_name": "Python 3",
   "language": "python",
   "name": "python3"
  },
  "language_info": {
   "codemirror_mode": {
    "name": "ipython",
    "version": 3
   },
   "file_extension": ".py",
   "mimetype": "text/x-python",
   "name": "python",
   "nbconvert_exporter": "python",
   "pygments_lexer": "ipython3",
   "version": "3.9.7"
  }
 },
 "nbformat": 4,
 "nbformat_minor": 2
}
